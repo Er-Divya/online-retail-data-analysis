{
 "cells": [
  {
   "cell_type": "code",
   "execution_count": 1,
   "id": "0f428df1-bc73-4906-bb92-f4404fb62a12",
   "metadata": {},
   "outputs": [],
   "source": [
    "from ucimlrepo import fetch_ucirepo \n",
    "import numpy as np\n",
    "import pandas as pd\n",
    "import seaborn as sns\n",
    "import matplotlib.pyplot as plt\n",
    "import pycountry"
   ]
  },
  {
   "cell_type": "code",
   "execution_count": 2,
   "id": "18dbc53c-77ef-4fe6-b393-14f2f7172a76",
   "metadata": {},
   "outputs": [],
   "source": [
    "pd.set_option('display.max_rows', None)"
   ]
  },
  {
   "cell_type": "markdown",
   "id": "eda0aa7b-7da1-4159-894c-d639202bf0e4",
   "metadata": {},
   "source": [
    "#### Fetch the UCI Online Retail dataset using its dataset ID (352) from the UCI repository"
   ]
  },
  {
   "cell_type": "code",
   "execution_count": 3,
   "id": "4eeaca40-8678-4cc7-82a4-37c1b8179823",
   "metadata": {},
   "outputs": [],
   "source": [
    "online_retail = fetch_ucirepo(id=352)  "
   ]
  },
  {
   "cell_type": "markdown",
   "id": "a974fe40-10a9-4792-95e5-1475fb967131",
   "metadata": {},
   "source": [
    "<b>-></b> Check the structure of the returned object (returned data type: <b>dataset dictionary</b>) <br>\n",
    "<b>-></b> Get top-level keys of the dataset dictionary (e.g., data, metadata, etc.) <br>\n",
    "<b>-></b> Check keys within the 'data' dictionary to see available components"
   ]
  },
  {
   "cell_type": "code",
   "execution_count": 4,
   "id": "49fdf365-e507-4157-b571-6f263d2a3a31",
   "metadata": {},
   "outputs": [
    {
     "name": "stdout",
     "output_type": "stream",
     "text": [
      "<class 'ucimlrepo.dotdict.dotdict'>\n",
      "dict_keys(['data', 'metadata', 'variables'])\n",
      "dict_keys(['ids', 'features', 'targets', 'original', 'headers'])\n"
     ]
    }
   ],
   "source": [
    "print(type(online_retail))\n",
    "print(online_retail.keys())\n",
    "print(online_retail.data.keys())"
   ]
  },
  {
   "cell_type": "markdown",
   "id": "acc65d51-88d4-4a0c-a829-2e952bfa6c67",
   "metadata": {},
   "source": [
    "#### Load dataset"
   ]
  },
  {
   "cell_type": "code",
   "execution_count": 5,
   "id": "2fb5b37b-9728-4217-8201-e384604f64f9",
   "metadata": {},
   "outputs": [],
   "source": [
    "df_retail_raw = online_retail.data.original"
   ]
  },
  {
   "cell_type": "markdown",
   "id": "21a5dbaf-5629-4509-aa37-b53bf79ff6fa",
   "metadata": {},
   "source": [
    "<b>-></b> Check summary of the online retail dataset, for data types, and non-null counts for each column"
   ]
  },
  {
   "cell_type": "code",
   "execution_count": 6,
   "id": "18ba7671-fc8e-4a7d-9ac4-0c3a49af0972",
   "metadata": {},
   "outputs": [
    {
     "name": "stdout",
     "output_type": "stream",
     "text": [
      "<class 'pandas.core.frame.DataFrame'>\n",
      "RangeIndex: 541909 entries, 0 to 541908\n",
      "Data columns (total 8 columns):\n",
      " #   Column       Non-Null Count   Dtype  \n",
      "---  ------       --------------   -----  \n",
      " 0   InvoiceNo    541909 non-null  object \n",
      " 1   StockCode    541909 non-null  object \n",
      " 2   Description  540455 non-null  object \n",
      " 3   Quantity     541909 non-null  int64  \n",
      " 4   InvoiceDate  541909 non-null  object \n",
      " 5   UnitPrice    541909 non-null  float64\n",
      " 6   CustomerID   406829 non-null  float64\n",
      " 7   Country      541909 non-null  object \n",
      "dtypes: float64(2), int64(1), object(5)\n",
      "memory usage: 33.1+ MB\n"
     ]
    }
   ],
   "source": [
    "df_retail_raw.info()"
   ]
  },
  {
   "cell_type": "markdown",
   "id": "088847ce-6d5e-44a7-a6f5-d73b576c4b05",
   "metadata": {},
   "source": [
    "<b>-></b> Generate summary statistics for numerical columns"
   ]
  },
  {
   "cell_type": "code",
   "execution_count": 7,
   "id": "d5d3bd0f-33b0-4250-9119-cd02db3d78ff",
   "metadata": {},
   "outputs": [
    {
     "data": {
      "text/html": [
       "<div>\n",
       "<style scoped>\n",
       "    .dataframe tbody tr th:only-of-type {\n",
       "        vertical-align: middle;\n",
       "    }\n",
       "\n",
       "    .dataframe tbody tr th {\n",
       "        vertical-align: top;\n",
       "    }\n",
       "\n",
       "    .dataframe thead th {\n",
       "        text-align: right;\n",
       "    }\n",
       "</style>\n",
       "<table border=\"1\" class=\"dataframe\">\n",
       "  <thead>\n",
       "    <tr style=\"text-align: right;\">\n",
       "      <th></th>\n",
       "      <th>Quantity</th>\n",
       "      <th>UnitPrice</th>\n",
       "      <th>CustomerID</th>\n",
       "    </tr>\n",
       "  </thead>\n",
       "  <tbody>\n",
       "    <tr>\n",
       "      <th>count</th>\n",
       "      <td>541909.000000</td>\n",
       "      <td>541909.000000</td>\n",
       "      <td>406829.000000</td>\n",
       "    </tr>\n",
       "    <tr>\n",
       "      <th>mean</th>\n",
       "      <td>9.552250</td>\n",
       "      <td>4.611114</td>\n",
       "      <td>15287.690570</td>\n",
       "    </tr>\n",
       "    <tr>\n",
       "      <th>std</th>\n",
       "      <td>218.081158</td>\n",
       "      <td>96.759853</td>\n",
       "      <td>1713.600303</td>\n",
       "    </tr>\n",
       "    <tr>\n",
       "      <th>min</th>\n",
       "      <td>-80995.000000</td>\n",
       "      <td>-11062.060000</td>\n",
       "      <td>12346.000000</td>\n",
       "    </tr>\n",
       "    <tr>\n",
       "      <th>25%</th>\n",
       "      <td>1.000000</td>\n",
       "      <td>1.250000</td>\n",
       "      <td>13953.000000</td>\n",
       "    </tr>\n",
       "    <tr>\n",
       "      <th>50%</th>\n",
       "      <td>3.000000</td>\n",
       "      <td>2.080000</td>\n",
       "      <td>15152.000000</td>\n",
       "    </tr>\n",
       "    <tr>\n",
       "      <th>75%</th>\n",
       "      <td>10.000000</td>\n",
       "      <td>4.130000</td>\n",
       "      <td>16791.000000</td>\n",
       "    </tr>\n",
       "    <tr>\n",
       "      <th>max</th>\n",
       "      <td>80995.000000</td>\n",
       "      <td>38970.000000</td>\n",
       "      <td>18287.000000</td>\n",
       "    </tr>\n",
       "  </tbody>\n",
       "</table>\n",
       "</div>"
      ],
      "text/plain": [
       "            Quantity      UnitPrice     CustomerID\n",
       "count  541909.000000  541909.000000  406829.000000\n",
       "mean        9.552250       4.611114   15287.690570\n",
       "std       218.081158      96.759853    1713.600303\n",
       "min    -80995.000000  -11062.060000   12346.000000\n",
       "25%         1.000000       1.250000   13953.000000\n",
       "50%         3.000000       2.080000   15152.000000\n",
       "75%        10.000000       4.130000   16791.000000\n",
       "max     80995.000000   38970.000000   18287.000000"
      ]
     },
     "execution_count": 7,
     "metadata": {},
     "output_type": "execute_result"
    }
   ],
   "source": [
    "df_retail_raw.describe()"
   ]
  },
  {
   "cell_type": "markdown",
   "id": "f451ef7d-e56a-4940-9c0c-7e17ec894012",
   "metadata": {},
   "source": [
    "<b>-></b> Define a function to calculate the percentage of missing values for each column"
   ]
  },
  {
   "cell_type": "code",
   "execution_count": 8,
   "id": "f9112b5c-0ecc-48e9-9dce-e7cc8a5eb6dc",
   "metadata": {},
   "outputs": [],
   "source": [
    "def calc_misisng_percent(df):\n",
    "    perc_missing_data = df.isna().sum()/len(df)\n",
    "    df_perc_missing = perc_missing_data.reset_index()\n",
    "    df_perc_missing.columns = ['Column', '%MissingValues']\n",
    "    return(df_perc_missing)"
   ]
  },
  {
   "cell_type": "markdown",
   "id": "4c9ca2eb-d283-4cac-9a00-70b196a211c7",
   "metadata": {},
   "source": [
    "<b>-></b> Call the calc_misisng_percent function to check missing value stats across the dataset"
   ]
  },
  {
   "cell_type": "code",
   "execution_count": 9,
   "id": "1734ae5a-9981-4677-ad5c-aa76a350b340",
   "metadata": {},
   "outputs": [
    {
     "data": {
      "text/html": [
       "<div>\n",
       "<style scoped>\n",
       "    .dataframe tbody tr th:only-of-type {\n",
       "        vertical-align: middle;\n",
       "    }\n",
       "\n",
       "    .dataframe tbody tr th {\n",
       "        vertical-align: top;\n",
       "    }\n",
       "\n",
       "    .dataframe thead th {\n",
       "        text-align: right;\n",
       "    }\n",
       "</style>\n",
       "<table border=\"1\" class=\"dataframe\">\n",
       "  <thead>\n",
       "    <tr style=\"text-align: right;\">\n",
       "      <th></th>\n",
       "      <th>Column</th>\n",
       "      <th>%MissingValues</th>\n",
       "    </tr>\n",
       "  </thead>\n",
       "  <tbody>\n",
       "    <tr>\n",
       "      <th>0</th>\n",
       "      <td>InvoiceNo</td>\n",
       "      <td>0.000000</td>\n",
       "    </tr>\n",
       "    <tr>\n",
       "      <th>1</th>\n",
       "      <td>StockCode</td>\n",
       "      <td>0.000000</td>\n",
       "    </tr>\n",
       "    <tr>\n",
       "      <th>2</th>\n",
       "      <td>Description</td>\n",
       "      <td>0.002683</td>\n",
       "    </tr>\n",
       "    <tr>\n",
       "      <th>3</th>\n",
       "      <td>Quantity</td>\n",
       "      <td>0.000000</td>\n",
       "    </tr>\n",
       "    <tr>\n",
       "      <th>4</th>\n",
       "      <td>InvoiceDate</td>\n",
       "      <td>0.000000</td>\n",
       "    </tr>\n",
       "    <tr>\n",
       "      <th>5</th>\n",
       "      <td>UnitPrice</td>\n",
       "      <td>0.000000</td>\n",
       "    </tr>\n",
       "    <tr>\n",
       "      <th>6</th>\n",
       "      <td>CustomerID</td>\n",
       "      <td>0.249267</td>\n",
       "    </tr>\n",
       "    <tr>\n",
       "      <th>7</th>\n",
       "      <td>Country</td>\n",
       "      <td>0.000000</td>\n",
       "    </tr>\n",
       "  </tbody>\n",
       "</table>\n",
       "</div>"
      ],
      "text/plain": [
       "        Column  %MissingValues\n",
       "0    InvoiceNo        0.000000\n",
       "1    StockCode        0.000000\n",
       "2  Description        0.002683\n",
       "3     Quantity        0.000000\n",
       "4  InvoiceDate        0.000000\n",
       "5    UnitPrice        0.000000\n",
       "6   CustomerID        0.249267\n",
       "7      Country        0.000000"
      ]
     },
     "execution_count": 9,
     "metadata": {},
     "output_type": "execute_result"
    }
   ],
   "source": [
    "calc_misisng_percent(df_retail_raw)"
   ]
  },
  {
   "cell_type": "markdown",
   "id": "15268eb4-4754-469c-b38b-795c928bed6a",
   "metadata": {},
   "source": [
    "<b>-></b> Check if canceled transactions (invoices starting with 'C') had corresponding non-canceled original invoices"
   ]
  },
  {
   "cell_type": "code",
   "execution_count": 10,
   "id": "cbf43b4b-e9c4-4815-a588-c7909200ce91",
   "metadata": {},
   "outputs": [
    {
     "name": "stdout",
     "output_type": "stream",
     "text": [
      "Total cancelled invoices:  9288\n",
      "Total number of original invoices exist for the cancelled invoices: 0\n"
     ]
    }
   ],
   "source": [
    "# Filter out cancelled invoices\n",
    "cancelled_invoices = df_retail_raw[df_retail_raw['InvoiceNo'].str.startswith('C')].copy()\n",
    "\n",
    "# Extract only the numeric part by removing the 'C' prefix from the invoice number\n",
    "cancelled_invoices['NumericInvoiceNo'] = cancelled_invoices['InvoiceNo'].str[1:]\n",
    "\n",
    "# Create a list of invoice numbers that do not start with 'C'\n",
    "valid_invoices = df_retail_raw[~df_retail_raw['InvoiceNo'].str.startswith('C')]['InvoiceNo']\n",
    "\n",
    "# Find the match of each cancelled invoice with the corresponding non-cancelled invoice\n",
    "invoice_matched = cancelled_invoices['NumericInvoiceNo'].isin(valid_invoices)\n",
    "\n",
    "print(\"Total cancelled invoices: \", cancelled_invoices.shape[0])\n",
    "print(\"Total number of original invoices exist for the cancelled invoices:\", invoice_matched.sum())"
   ]
  },
  {
   "cell_type": "markdown",
   "id": "08c1f6b4-e84a-4dd9-a77c-0cd5411cfaa2",
   "metadata": {},
   "source": [
    "#### Data Cleaning\n",
    "<b>-></b> Remove all records with cancelled invoices based on the finding that they do not have matching valid invoices"
   ]
  },
  {
   "cell_type": "code",
   "execution_count": 11,
   "id": "be46134a-8996-4e54-9592-71117832b5e9",
   "metadata": {},
   "outputs": [],
   "source": [
    "df_retail_clean = df_retail_raw[~df_retail_raw['InvoiceNo'].str.startswith('C')].copy()"
   ]
  },
  {
   "cell_type": "code",
   "execution_count": 12,
   "id": "6991f620-8c27-43ff-b981-dbeb3a7ec1e5",
   "metadata": {},
   "outputs": [
    {
     "data": {
      "text/html": [
       "<div>\n",
       "<style scoped>\n",
       "    .dataframe tbody tr th:only-of-type {\n",
       "        vertical-align: middle;\n",
       "    }\n",
       "\n",
       "    .dataframe tbody tr th {\n",
       "        vertical-align: top;\n",
       "    }\n",
       "\n",
       "    .dataframe thead th {\n",
       "        text-align: right;\n",
       "    }\n",
       "</style>\n",
       "<table border=\"1\" class=\"dataframe\">\n",
       "  <thead>\n",
       "    <tr style=\"text-align: right;\">\n",
       "      <th></th>\n",
       "      <th>InvoiceNo</th>\n",
       "      <th>StockCode</th>\n",
       "      <th>Description</th>\n",
       "      <th>Quantity</th>\n",
       "      <th>InvoiceDate</th>\n",
       "      <th>UnitPrice</th>\n",
       "      <th>CustomerID</th>\n",
       "      <th>Country</th>\n",
       "    </tr>\n",
       "  </thead>\n",
       "  <tbody>\n",
       "    <tr>\n",
       "      <th>299982</th>\n",
       "      <td>A563185</td>\n",
       "      <td>B</td>\n",
       "      <td>Adjust bad debt</td>\n",
       "      <td>1</td>\n",
       "      <td>8/12/2011 14:50</td>\n",
       "      <td>11062.06</td>\n",
       "      <td>NaN</td>\n",
       "      <td>United Kingdom</td>\n",
       "    </tr>\n",
       "    <tr>\n",
       "      <th>299983</th>\n",
       "      <td>A563186</td>\n",
       "      <td>B</td>\n",
       "      <td>Adjust bad debt</td>\n",
       "      <td>1</td>\n",
       "      <td>8/12/2011 14:51</td>\n",
       "      <td>-11062.06</td>\n",
       "      <td>NaN</td>\n",
       "      <td>United Kingdom</td>\n",
       "    </tr>\n",
       "    <tr>\n",
       "      <th>299984</th>\n",
       "      <td>A563187</td>\n",
       "      <td>B</td>\n",
       "      <td>Adjust bad debt</td>\n",
       "      <td>1</td>\n",
       "      <td>8/12/2011 14:52</td>\n",
       "      <td>-11062.06</td>\n",
       "      <td>NaN</td>\n",
       "      <td>United Kingdom</td>\n",
       "    </tr>\n",
       "  </tbody>\n",
       "</table>\n",
       "</div>"
      ],
      "text/plain": [
       "       InvoiceNo StockCode      Description  Quantity      InvoiceDate  \\\n",
       "299982   A563185         B  Adjust bad debt         1  8/12/2011 14:50   \n",
       "299983   A563186         B  Adjust bad debt         1  8/12/2011 14:51   \n",
       "299984   A563187         B  Adjust bad debt         1  8/12/2011 14:52   \n",
       "\n",
       "        UnitPrice  CustomerID         Country  \n",
       "299982   11062.06         NaN  United Kingdom  \n",
       "299983  -11062.06         NaN  United Kingdom  \n",
       "299984  -11062.06         NaN  United Kingdom  "
      ]
     },
     "execution_count": 12,
     "metadata": {},
     "output_type": "execute_result"
    }
   ],
   "source": [
    "df_retail_clean[df_retail_clean['InvoiceNo'].str.match(r'^[A-Za-z]')]"
   ]
  },
  {
   "cell_type": "markdown",
   "id": "88397870-7179-410d-bd7a-b8ef4acf2888",
   "metadata": {},
   "source": [
    "<b>-></b> Check if an any other invoice begins with letter instead of digits and remove them"
   ]
  },
  {
   "cell_type": "code",
   "execution_count": 13,
   "id": "cfce9903-216b-4b05-a3e6-cbab822dba47",
   "metadata": {},
   "outputs": [
    {
     "name": "stdout",
     "output_type": "stream",
     "text": [
      "Invoice numbers which begins with letters:  ['A563185' 'A563186' 'A563187']\n"
     ]
    }
   ],
   "source": [
    "print('Invoice numbers which begins with letters: ', np.array(df_retail_clean[df_retail_clean['InvoiceNo'].str.match(r'^[A-Za-z]')]['InvoiceNo']))"
   ]
  },
  {
   "cell_type": "code",
   "execution_count": 14,
   "id": "56601032-fac7-4710-8d8a-97dedac0fc5f",
   "metadata": {},
   "outputs": [],
   "source": [
    "df_retail_clean = df_retail_clean[~df_retail_clean['InvoiceNo'].str.match(r'^[A-Za-z]')].copy()"
   ]
  },
  {
   "cell_type": "markdown",
   "id": "9d7f91df-0aca-4bd2-b1d1-0c34dbc015c9",
   "metadata": {},
   "source": [
    "<b>-></b> Remove all records with negative quantities"
   ]
  },
  {
   "cell_type": "code",
   "execution_count": 15,
   "id": "09b5f9fd-bb79-4e6e-9914-891317257e57",
   "metadata": {},
   "outputs": [],
   "source": [
    "df_retail_clean = df_retail_clean[df_retail_clean['Quantity'] > 0].copy()"
   ]
  },
  {
   "cell_type": "markdown",
   "id": "21dd95f9-15a3-4868-8485-9c0734672dce",
   "metadata": {},
   "source": [
    "<b>-></b> Fill missing CustomerID with value -1 to retain these rows for Market Basket Analysis (MBA) <br>\n",
    "<b>-></b> These rows will be excluded from RFM segmentation, where a valid customer ID is required"
   ]
  },
  {
   "cell_type": "code",
   "execution_count": 16,
   "id": "063fa8bc-c3ea-480f-bca0-f776e7865239",
   "metadata": {},
   "outputs": [],
   "source": [
    "df_retail_clean['CustomerID'] = df_retail_clean['CustomerID'].fillna(-1)"
   ]
  },
  {
   "cell_type": "markdown",
   "id": "efd0a630-3ad2-45fc-8d86-d0a010be9486",
   "metadata": {},
   "source": [
    "<b>-></b> Replace missing product descriptions with 'Not Available' to maintain complete transaction records without dropping rows unnecessarily <br>\n",
    "<b>-></b> This ensures all items have a label for visualizations and Market Basket Analysis"
   ]
  },
  {
   "cell_type": "code",
   "execution_count": 17,
   "id": "f1740b58-e4ae-4712-9282-f5e9a88b8be1",
   "metadata": {},
   "outputs": [],
   "source": [
    "df_retail_clean['Description'] = df_retail_clean['Description'].fillna('Not Available')"
   ]
  },
  {
   "cell_type": "markdown",
   "id": "587d9bd3-7c65-4a73-a848-29c7ffc2a834",
   "metadata": {},
   "source": [
    "<b>-></b> Check for transactions where UnitPrice == 0 and CustomerID == -1 and exclude them from the dataset <br>\n",
    "<b>-></b> This combination is suggestive of non-sales activities, such as:\n",
    "* Internal system tests\n",
    "* Bad debt adjustments\n",
    "* Inventory corrections"
   ]
  },
  {
   "cell_type": "code",
   "execution_count": 18,
   "id": "00f93cec-2e40-4c8d-a9da-703b71cce1eb",
   "metadata": {},
   "outputs": [],
   "source": [
    "df_retail_clean = df_retail_clean[~((df_retail_clean['UnitPrice']==0) & (df_retail_clean['CustomerID'] == -1))].copy()"
   ]
  },
  {
   "cell_type": "markdown",
   "id": "073db71f-56b6-44a2-949b-c8e1d37a90bd",
   "metadata": {},
   "source": [
    "##### Duplicate Detection"
   ]
  },
  {
   "cell_type": "code",
   "execution_count": 19,
   "id": "6a495aa2-2b9b-4632-8bd9-2f5d7cc704d7",
   "metadata": {},
   "outputs": [
    {
     "name": "stdout",
     "output_type": "stream",
     "text": [
      "Total number of duplicate records:  5226\n"
     ]
    }
   ],
   "source": [
    "print('Total number of duplicate records: ', int(df_retail_clean.duplicated().sum()))"
   ]
  },
  {
   "cell_type": "markdown",
   "id": "62857642-10cc-4c8a-939e-78752ace5f28",
   "metadata": {},
   "source": [
    "<b>-></b> Remove duplicate records based on the assumption that they represent repeated entries rather than valid transactions. <br>\n",
    "<b>-></b> This ensures each transaction line is unique and avoids skewed analysis."
   ]
  },
  {
   "cell_type": "code",
   "execution_count": 20,
   "id": "b8f9452f-e82b-4a99-a5df-e25357aaf326",
   "metadata": {},
   "outputs": [],
   "source": [
    "df_retail_clean = df_retail_clean[~df_retail_clean.duplicated()].copy()"
   ]
  },
  {
   "cell_type": "markdown",
   "id": "0b30229b-40e0-4403-acb4-6c886fb67921",
   "metadata": {},
   "source": [
    "#### Data Preparation\n",
    "<b>-></b> To analyze sales trends over time, converted the InvoiceDate column to a proper datetime format and extracted Year and Month as separate features."
   ]
  },
  {
   "cell_type": "code",
   "execution_count": 21,
   "id": "b3711fde-c3c8-408a-853f-212d146ac584",
   "metadata": {},
   "outputs": [],
   "source": [
    "df_retail_clean['InvoiceDate'] = pd.to_datetime(df_retail_clean['InvoiceDate'], format='%m/%d/%Y %H:%M')\n",
    "df_retail_clean['Year'] = df_retail_clean['InvoiceDate'].dt.year\n",
    "df_retail_clean['Month'] = df_retail_clean['InvoiceDate'].dt.month"
   ]
  },
  {
   "cell_type": "markdown",
   "id": "4f523abc-a754-4874-9ef4-3433f3c02800",
   "metadata": {},
   "source": [
    "<b>-></b> Create a new column for total price"
   ]
  },
  {
   "cell_type": "code",
   "execution_count": 22,
   "id": "13c7881c-53bc-45a1-b946-599aa49e3cde",
   "metadata": {},
   "outputs": [],
   "source": [
    "df_retail_clean['Total Price'] = df_retail_clean['Quantity'] * df_retail_clean['UnitPrice']"
   ]
  },
  {
   "cell_type": "markdown",
   "id": "56cb19f0-f0d8-48e1-a05d-3f9188377366",
   "metadata": {},
   "source": [
    "<b>-></b> Standardizing Country Names"
   ]
  },
  {
   "cell_type": "code",
   "execution_count": 23,
   "id": "834927d3-b2a4-4847-baa3-212b15038079",
   "metadata": {},
   "outputs": [
    {
     "name": "stdout",
     "output_type": "stream",
     "text": [
      "Distinct countries in online retail dataset:  ['United Kingdom' 'France' 'Australia' 'Netherlands' 'Germany' 'Norway'\n",
      " 'EIRE' 'Switzerland' 'Spain' 'Poland' 'Portugal' 'Italy' 'Belgium'\n",
      " 'Lithuania' 'Japan' 'Iceland' 'Channel Islands' 'Denmark' 'Cyprus'\n",
      " 'Sweden' 'Finland' 'Austria' 'Bahrain' 'Israel' 'Greece' 'Hong Kong'\n",
      " 'Singapore' 'Lebanon' 'United Arab Emirates' 'Saudi Arabia'\n",
      " 'Czech Republic' 'Canada' 'Unspecified' 'Brazil' 'USA'\n",
      " 'European Community' 'Malta' 'RSA']\n",
      "\n",
      " Number of rows with country name as 'Unspecified':  442\n"
     ]
    }
   ],
   "source": [
    "# Check all unique country names in the dataset\n",
    "print('Distinct countries in online retail dataset: ', df_retail_clean['Country'].unique())\n",
    "\n",
    "# Create a list of valid ISO country names using the pycountry library\n",
    "valid_country_lst = [country.name for country in pycountry.countries]\n",
    "\n",
    "# Check how many rows are labeled as 'Unspecified'\n",
    "print(\"\\n Number of rows with country name as 'Unspecified': \", df_retail_clean[df_retail_clean['Country'] == 'Unspecified'].shape[0])"
   ]
  },
  {
   "cell_type": "markdown",
   "id": "a014b36e-7971-4c1e-be34-b78cc3bb5df3",
   "metadata": {},
   "source": [
    "<b>-></b> Replace 'European Community' with 'Unspecified' and keep all records with 'Unspecified' country name to preserve complete sales and customer data for non-geographic analyses like product trends, RFM, and Market Basket Analysis."
   ]
  },
  {
   "cell_type": "code",
   "execution_count": 24,
   "id": "7314b4a8-056c-4e50-8e44-a1a815f66740",
   "metadata": {},
   "outputs": [],
   "source": [
    "# Standardize inconsistent or outdated country names\n",
    "replacement_country = {\n",
    "    'EIRE': 'Ireland',\n",
    "    'Czech Republic': 'Czechia',\n",
    "    'USA': 'United States',\n",
    "    'RSA': 'South Africa',\n",
    "    'European Community': 'Unspecified',\n",
    "    'Channel Islands': 'United Kingdom'\n",
    "}\n",
    "\n",
    "# Replace old or irregular names with standardized versions\n",
    "df_retail_clean['Country'] = df_retail_clean['Country'].replace(replacement_country)"
   ]
  },
  {
   "cell_type": "markdown",
   "id": "7500d2f9-377d-474b-9f77-6d39d74614b8",
   "metadata": {},
   "source": [
    "<b>-></b> Analyze the Quantity field to understand its value distribution. <br>\n",
    "<b>-></b> Since retail quantity can vary widely sometimes due to build orders, use a log-transformed boxplot for visualization."
   ]
  },
  {
   "cell_type": "code",
   "execution_count": 25,
   "id": "c31eb884-98bc-45a1-843a-24e2466b3e62",
   "metadata": {
    "scrolled": true
   },
   "outputs": [
    {
     "data": {
      "image/png": "[encoded data removed]",
      "text/plain": [
       "<Figure size 800x400 with 1 Axes>"
      ]
     },
     "metadata": {},
     "output_type": "display_data"
    }
   ],
   "source": [
    "plt.figure(figsize=(8, 4))\n",
    "\n",
    "sns.boxplot(x=np.log(df_retail_clean[\"Quantity\"] + 1))\n",
    "plt.title(\"Boxplot of Log-Transformed Quantity\", fontsize=14)\n",
    "plt.yticks([])\n",
    "plt.grid(axis='x', linestyle='--', alpha=0.7)\n",
    "\n",
    "plt.tight_layout()\n",
    "plt.show()"
   ]
  },
  {
   "cell_type": "markdown",
   "id": "e9610fce-ea80-4470-9bbc-ba1201d7451f",
   "metadata": {},
   "source": [
    "<b>-></b> Calculate IQR to detect outliers <br>\n",
    "<b>-></b> Define an upper threshold"
   ]
  },
  {
   "cell_type": "code",
   "execution_count": 26,
   "id": "2a14be2d-e00e-435e-9199-f77f6f9028a3",
   "metadata": {},
   "outputs": [
    {
     "name": "stdout",
     "output_type": "stream",
     "text": [
      "Upper bound for outliers in Quantity column is:  26.0\n"
     ]
    }
   ],
   "source": [
    "Q1 = df_retail_clean['Quantity'].quantile(0.25)\n",
    "Q3 = df_retail_clean['Quantity'].quantile(0.75)\n",
    "IQR = Q3 - Q1\n",
    "\n",
    "\n",
    "upper_bound = Q3 + 1.5 * IQR\n",
    "print(\"Upper bound for outliers in Quantity column is: \", upper_bound)"
   ]
  },
  {
   "cell_type": "code",
   "execution_count": 27,
   "id": "7bb084e5-1e5c-4a72-a204-c4f1a0ec1b04",
   "metadata": {},
   "outputs": [
    {
     "name": "stdout",
     "output_type": "stream",
     "text": [
      "Total number of rows with Quantity greater than upper bound:  27120\n"
     ]
    }
   ],
   "source": [
    "print(\"Total number of rows with Quantity greater than upper bound: \",len( df_retail_clean[df_retail_clean['Quantity'] > upper_bound]))"
   ]
  },
  {
   "cell_type": "markdown",
   "id": "97867f67-85bd-4529-bfd5-6bbeeeb2f318",
   "metadata": {},
   "source": [
    "<b>-></b> While the IQR method flagged Quantity values over 23.5 as outliers, I use business-defined thresholds to categorize orders:\n",
    "\n",
    "* Small (< 1,000 units)\n",
    "* Mid-size (1,000–29,999 units)\n",
    "* Large (30,000+ units)\n",
    "\n",
    "This can help isolate bulk or anomalous orders for deeper business insight, especially regarding inventory and customer behavior."
   ]
  },
  {
   "cell_type": "code",
   "execution_count": 28,
   "id": "2b9ec569-a16f-4f02-9474-4ce9979a0969",
   "metadata": {},
   "outputs": [
    {
     "name": "stdout",
     "output_type": "stream",
     "text": [
      "Records with 'Small' quantity:  524800\n",
      "Records with 'Mid-size' quantity:  115\n",
      "Records with 'Large' quantity:  2\n"
     ]
    }
   ],
   "source": [
    "print(\"Records with 'Small' quantity: \", (df_retail_clean[\"Quantity\"] < 1000).sum())\n",
    "print(\"Records with 'Mid-size' quantity: \", ((df_retail_clean[\"Quantity\"] >= 1000) & (df_retail_clean[\"Quantity\"] < 30000)).sum())\n",
    "print(\"Records with 'Large' quantity: \", (df_retail_clean[\"Quantity\"]>=30000).sum())"
   ]
  },
  {
   "cell_type": "markdown",
   "id": "ac2928f7-c856-46b7-9254-156d7be8bd8b",
   "metadata": {},
   "source": [
    "<b>-></b> Create a new column 'QuantityBracket' based on the three categories from Quantity column"
   ]
  },
  {
   "cell_type": "code",
   "execution_count": 29,
   "id": "cae9aa35-341f-4dff-af28-17d261eca01a",
   "metadata": {},
   "outputs": [],
   "source": [
    "conditions = [\n",
    "    df_retail_clean['Quantity'] < 1000, \n",
    "    (df_retail_clean['Quantity'] >= 1000) & (df_retail_clean['Quantity'] < 30000), \n",
    "    df_retail_clean[\"Quantity\"]>=30000\n",
    "]\n",
    "\n",
    "categories = ['Small', 'Mid-size', 'Large']\n",
    "\n",
    "df_retail_clean['QuantityBracket'] = np.select(conditions, categories, default='Unknown')"
   ]
  },
  {
   "cell_type": "markdown",
   "id": "06dff93e-4e7f-41a5-83f3-90de4b8cf010",
   "metadata": {},
   "source": [
    "<b>-></b> Convert Year column to integers for proper aggregation <br>\n",
    "<b>-></b> Convert Month column to string for easier filtering and labeling in visualizations"
   ]
  },
  {
   "cell_type": "code",
   "execution_count": 30,
   "id": "24170131-89bb-46b9-aedf-36c455f97a9d",
   "metadata": {},
   "outputs": [],
   "source": [
    "# df_retail_clean['CustomerID'] = df_retail_clean['CustomerID'].astype('int64')\n",
    "df_retail_clean['Year'] = df_retail_clean['Year'].astype('int64')\n",
    "df_retail_clean['Month'] = df_retail_clean['Month'].astype('str')"
   ]
  },
  {
   "cell_type": "markdown",
   "id": "33390f1f-d505-43ba-8a47-94d21d5046ad",
   "metadata": {},
   "source": [
    "#### Save cleaned dataset for further analysis"
   ]
  },
  {
   "cell_type": "code",
   "execution_count": 31,
   "id": "19484ece-a676-4e89-96c8-934c412f61b4",
   "metadata": {},
   "outputs": [],
   "source": [
    "df_retail_clean.to_csv(\"cleaned_online_retail.csv\", index=False)"
   ]
  },
  {
   "cell_type": "code",
   "execution_count": null,
   "id": "a58ec9a8-4bd1-4cd2-aa64-a8ddfbb3d1ef",
   "metadata": {},
   "outputs": [],
   "source": []
  }
 ],
 "metadata": {
  "kernelspec": {
   "display_name": "Python 3 (ipykernel)",
   "language": "python",
   "name": "python3"
  },
  "language_info": {
   "codemirror_mode": {
    "name": "ipython",
    "version": 3
   },
   "file_extension": ".py",
   "mimetype": "text/x-python",
   "name": "python",
   "nbconvert_exporter": "python",
   "pygments_lexer": "ipython3",
   "version": "3.13.0"
  }
 },
 "nbformat": 4,
 "nbformat_minor": 5
}
